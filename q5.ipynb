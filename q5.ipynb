{
  "nbformat": 4,
  "nbformat_minor": 0,
  "metadata": {
    "colab": {
      "provenance": []
    },
    "kernelspec": {
      "name": "python3",
      "display_name": "Python 3"
    },
    "language_info": {
      "name": "python"
    }
  },
  "cells": [
    {
      "cell_type": "code",
      "execution_count": 8,
      "metadata": {
        "colab": {
          "base_uri": "https://localhost:8080/",
          "height": 34
        },
        "id": "H-tGyQe3VXO9",
        "outputId": "dddae58f-4dc0-4658-f88c-937763990b0d"
      },
      "outputs": [
        {
          "output_type": "stream",
          "name": "stdout",
          "text": [
            "Networks exported as CSV files\n"
          ]
        },
        {
          "output_type": "display_data",
          "data": {
            "text/plain": [
              "<IPython.core.display.Javascript object>"
            ],
            "application/javascript": [
              "\n",
              "    async function download(id, filename, size) {\n",
              "      if (!google.colab.kernel.accessAllowed) {\n",
              "        return;\n",
              "      }\n",
              "      const div = document.createElement('div');\n",
              "      const label = document.createElement('label');\n",
              "      label.textContent = `Downloading \"${filename}\": `;\n",
              "      div.appendChild(label);\n",
              "      const progress = document.createElement('progress');\n",
              "      progress.max = size;\n",
              "      div.appendChild(progress);\n",
              "      document.body.appendChild(div);\n",
              "\n",
              "      const buffers = [];\n",
              "      let downloaded = 0;\n",
              "\n",
              "      const channel = await google.colab.kernel.comms.open(id);\n",
              "      // Send a message to notify the kernel that we're ready.\n",
              "      channel.send({})\n",
              "\n",
              "      for await (const message of channel.messages) {\n",
              "        // Send a message to notify the kernel that we're ready.\n",
              "        channel.send({})\n",
              "        if (message.buffers) {\n",
              "          for (const buffer of message.buffers) {\n",
              "            buffers.push(buffer);\n",
              "            downloaded += buffer.byteLength;\n",
              "            progress.value = downloaded;\n",
              "          }\n",
              "        }\n",
              "      }\n",
              "      const blob = new Blob(buffers, {type: 'application/binary'});\n",
              "      const a = document.createElement('a');\n",
              "      a.href = window.URL.createObjectURL(blob);\n",
              "      a.download = filename;\n",
              "      div.appendChild(a);\n",
              "      a.click();\n",
              "      div.remove();\n",
              "    }\n",
              "  "
            ]
          },
          "metadata": {}
        },
        {
          "output_type": "display_data",
          "data": {
            "text/plain": [
              "<IPython.core.display.Javascript object>"
            ],
            "application/javascript": [
              "download(\"download_99cd411e-b6f8-42a9-b8e9-9e7b81365ad9\", \"network_undirected.csv\", 437621)"
            ]
          },
          "metadata": {}
        },
        {
          "output_type": "display_data",
          "data": {
            "text/plain": [
              "<IPython.core.display.Javascript object>"
            ],
            "application/javascript": [
              "\n",
              "    async function download(id, filename, size) {\n",
              "      if (!google.colab.kernel.accessAllowed) {\n",
              "        return;\n",
              "      }\n",
              "      const div = document.createElement('div');\n",
              "      const label = document.createElement('label');\n",
              "      label.textContent = `Downloading \"${filename}\": `;\n",
              "      div.appendChild(label);\n",
              "      const progress = document.createElement('progress');\n",
              "      progress.max = size;\n",
              "      div.appendChild(progress);\n",
              "      document.body.appendChild(div);\n",
              "\n",
              "      const buffers = [];\n",
              "      let downloaded = 0;\n",
              "\n",
              "      const channel = await google.colab.kernel.comms.open(id);\n",
              "      // Send a message to notify the kernel that we're ready.\n",
              "      channel.send({})\n",
              "\n",
              "      for await (const message of channel.messages) {\n",
              "        // Send a message to notify the kernel that we're ready.\n",
              "        channel.send({})\n",
              "        if (message.buffers) {\n",
              "          for (const buffer of message.buffers) {\n",
              "            buffers.push(buffer);\n",
              "            downloaded += buffer.byteLength;\n",
              "            progress.value = downloaded;\n",
              "          }\n",
              "        }\n",
              "      }\n",
              "      const blob = new Blob(buffers, {type: 'application/binary'});\n",
              "      const a = document.createElement('a');\n",
              "      a.href = window.URL.createObjectURL(blob);\n",
              "      a.download = filename;\n",
              "      div.appendChild(a);\n",
              "      a.click();\n",
              "      div.remove();\n",
              "    }\n",
              "  "
            ]
          },
          "metadata": {}
        },
        {
          "output_type": "display_data",
          "data": {
            "text/plain": [
              "<IPython.core.display.Javascript object>"
            ],
            "application/javascript": [
              "download(\"download_c9cd1af8-51de-406a-84b4-c3dd756508c3\", \"network_directed.csv\", 213912)"
            ]
          },
          "metadata": {}
        }
      ],
      "source": [
        "import networkx as nx\n",
        "import urllib.request as u\n",
        "from google.colab import files\n",
        "\n",
        "def create_networks():\n",
        "    \"\"\"Create both directed and undirected networks from URL data\"\"\"\n",
        "    url = \"https://drive.google.com/file/d/1k9shqEUbTg1tL3-YOvtLrtlVF3Bqnr9-/view?usp=sharing\"\n",
        "    file_id = url.split('/')[-2]\n",
        "    download_url = f\"https://drive.google.com/uc?id={file_id}\"\n",
        "\n",
        "    # Create empty graphs\n",
        "    G = nx.Graph()        # undirected\n",
        "    D = nx.DiGraph()      # directed\n",
        "\n",
        "    # Read and add edges\n",
        "    response = u.urlopen(download_url)\n",
        "    data = response.read().decode('utf-8')\n",
        "\n",
        "    for line in data.splitlines():\n",
        "        if line and not line.startswith('#') and not line.startswith('%'):\n",
        "            try:\n",
        "                s, t, w = map(float, line.strip().split())\n",
        "                G.add_edge(int(s), int(t), weight=w)\n",
        "                D.add_edge(int(s), int(t))\n",
        "            except:\n",
        "                continue\n",
        "\n",
        "    return G, D\n",
        "\n",
        "def export_for_cytoscape(G, D):\n",
        "    \"\"\"Export networks as CSV for Cytoscape visualization\"\"\"\n",
        "    # Export undirected weighted network\n",
        "    with open('network_undirected.csv', 'w') as f:\n",
        "        f.write('Source,Target,Weight\\n')\n",
        "        for u in G.adj:\n",
        "            for v, w in G.adj[u].items():\n",
        "                if u < v:  # Avoid duplicates\n",
        "                    f.write(f'{u},{v},{w}\\n')\n",
        "\n",
        "    # Export directed network\n",
        "    with open('network_directed.csv', 'w') as f:\n",
        "        f.write('Source,Target\\n')\n",
        "        for u in D.adj:\n",
        "            for v in D.adj[u]:\n",
        "                f.write(f'{u},{v}\\n')\n",
        "\n",
        "    print(\"Networks exported as CSV files\")\n",
        "\n",
        "# Create networks\n",
        "G, D = create_networks()\n",
        "\n",
        "# Export networks\n",
        "export_for_cytoscape(G, D)\n",
        "\n",
        "# Download files\n",
        "files.download('network_undirected.csv')\n",
        "files.download('network_directed.csv')"
      ]
    }
  ]
}